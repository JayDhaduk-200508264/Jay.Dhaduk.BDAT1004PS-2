{
 "cells": [
  {
   "cell_type": "markdown",
   "id": "54b68e0d",
   "metadata": {},
   "source": [
    "# Q-1 \n",
    "Consider the following Python module:\n",
    "a = 0\n",
    "def b():\n",
    "    global a\n",
    "    a = c(a)\n",
    "    \n",
    "def c(a):\n",
    "    return a + 2\n",
    "    \n",
    "After importing the module into the interpreter, you execute:\n",
    "\n",
    "#>>> b()\n",
    "#>>> b()\n",
    "#>>> b()\n",
    "#>>> a\n",
    "?\n",
    "\n",
    "What value is displayed when the last expression (a) is evaluated? Explain youranswer by indicating what happens in every executed statement."
   ]
  },
  {
   "cell_type": "code",
   "execution_count": 3,
   "id": "192d5f14",
   "metadata": {},
   "outputs": [
    {
     "name": "stdout",
     "output_type": "stream",
     "text": [
      "6\n"
     ]
    }
   ],
   "source": [
    "a = 0 #This statement set the variable \"a\" with value \"0\"\n",
    "\n",
    "def b():   #Defines a function\"b()\"\n",
    "    global a   #This funcation use the existing variable\"a\"\n",
    "    a = c(a)  #This funcation taking the current value of \"a\" sending it to the funcation\"c(a)\", which adds 2 to it, then storing the result back into \"a\"\n",
    "\n",
    "def c(a):  #This defines a function\"c(a)\" that takes an argument\"a\"\n",
    "    return a + 2  #this line returns the argument \"a\" adding by 2\n",
    "\n",
    "b()  #The function b() is called, and it takes the global variable a, which is 0, passes it to c(a), and assigns the result (2) back to the global variable a\n",
    "b()  #'b()' is called again, with 'a' now at 2, and 'a' becomes 4\n",
    "b()  #'b()' is called again, with the current value of a, which is now 4. The result (6) is assigned to a\n",
    "\n",
    "print(a) #print the current value of 'a'"
   ]
  },
  {
   "cell_type": "markdown",
   "id": "dcc7c443",
   "metadata": {},
   "source": [
    "# Q-2\n",
    "Function fileLength(), given to you, takes the name of a file as input and returnsthe length of the file:\n",
    "\n",
    "fileLength('midterm.py')\n",
    "284\n",
    "fileLength('idterm.py')\n",
    "Traceback (most recent call last):\n",
    "File \"<pyshell#34>\", line 1, in <module>\n",
    "    fileLength('idterm.py')\n",
    "  File \"/Users/me/midterm.py\", line 3, in fileLength\n",
    "    infile = open(filename)\n",
    "FileNotFoundError: [Errno 2] No such file or directory:\n",
    "'idterm.py'\n",
    "    \n",
    "    \n",
    "As shown above, if the file cannot be found by the interpreter or if it cannot be readas a text file, an exception will be raised. Modify function fileLength() so that afriendly message is printed instead:\n",
    "\n",
    "fileLength('midterm.py')\n",
    "358\n",
    "fileLength('idterm.py')\n",
    "File idterm.py not found."
   ]
  },
  {
   "cell_type": "code",
   "execution_count": 97,
   "id": "a615e50f",
   "metadata": {},
   "outputs": [
    {
     "name": "stdout",
     "output_type": "stream",
     "text": [
      "File Filelength.txt has 123 characters.\n",
      "File midterm.py not found.\n",
      "File idterm.py not found.\n"
     ]
    }
   ],
   "source": [
    "def fileLength(filename):\n",
    "    try:\n",
    "        infile = open(filename, 'r')\n",
    "        content = infile.read()\n",
    "        length = len(content)\n",
    "        print(\"File {} has {} characters.\".format(filename, length))\n",
    "        infile.close()\n",
    "        return length\n",
    "    except FileNotFoundError:\n",
    "        print(\"File {} not found.\".format(filename))\n",
    "        return None\n",
    "\n",
    "fileLength('Filelength.txt')    \n",
    "fileLength('midterm.py')\n",
    "fileLength('idterm.py')"
   ]
  },
  {
   "cell_type": "markdown",
   "id": "0762d33a",
   "metadata": {},
   "source": [
    "# Q-3\n"
   ]
  },
  {
   "cell_type": "markdown",
   "id": "c45383aa",
   "metadata": {},
   "source": [
    "Write a class named Marsupial that can be used as shown below:\n",
    " m = Marsupial()\n",
    " m.put_in_pouch('doll')\n",
    " m.put_in_pouch('firetruck')\n",
    " m.put_in_pouch('kitten')\n",
    " m.pouch_contents()['doll', 'firetruck', 'kitten']\n",
    "Now write a class named Kangaroo as a subclass of Marsupial that inherits all theattributes of Marsupial and also:a. extends the Marsupial __init__ constructor to take, as input, thecoordinates x and y of the Kangaroo object,b. supports method jump that takes number values dx and dy as input andmoves the kangaroo by dx units along the x-axis and by dy units along the y-axis, andc. overloads the __str__ operator so it behaves as shown below.>>> k = Kangaroo(0,0)>>> print(k)I am a Kangaroo located at coordinates (0,0)>>> k.put_in_pouch('doll')>>> k.put_in_pouch('firetruck')>>> k.put_in_pouch('kitten')>>> k.pouch_contents()['doll', 'firetruck', 'kitten']>>> k.jump(1,0)>>> k.jump(1,0)>>> k.jump(1,0)>>> print(k)I am a Kangaroo located at coordinates (3,0)\n",
    "explain this question step wise step  in details and in very simple way"
   ]
  },
  {
   "cell_type": "code",
   "execution_count": 98,
   "id": "6f830d25",
   "metadata": {},
   "outputs": [
    {
     "name": "stdout",
     "output_type": "stream",
     "text": [
      "['doll', 'firetruck', 'kitten']\n",
      "I am a Kangaroo located at coordinates (0, 0)\n",
      "['doll', 'firetruck', 'kitten']\n",
      "I am a Kangaroo located at coordinates (3, 0)\n"
     ]
    }
   ],
   "source": [
    "class Marsupial:\n",
    "    def __init__(self):\n",
    "        self.pouch = []\n",
    "\n",
    "    def put_in_pouch(self, item):\n",
    "        self.pouch.append(item)\n",
    "\n",
    "    def pouch_contents(self):\n",
    "        return self.pouch\n",
    "    \n",
    "class Kangaroo(Marsupial):\n",
    "    def __init__(self, x, y):\n",
    "        super().__init__()  \n",
    "        self.x = x\n",
    "        self.y = y\n",
    "\n",
    "    def jump(self, dx, dy):\n",
    "        self.x += dx\n",
    "        self.y += dy\n",
    "\n",
    "    def __str__(self):\n",
    "        return \"I am a Kangaroo located at coordinates ({}, {})\".format(self.x, self.y)\n",
    "   \n",
    "    \n",
    "\n",
    "m = Marsupial()\n",
    "m.put_in_pouch('doll')\n",
    "m.put_in_pouch('firetruck')\n",
    "m.put_in_pouch('kitten')\n",
    "print(m.pouch_contents()) \n",
    "\n",
    "k = Kangaroo(0, 0)\n",
    "print(k) \n",
    "\n",
    "k.put_in_pouch('doll')\n",
    "k.put_in_pouch('firetruck')\n",
    "k.put_in_pouch('kitten')\n",
    "print(k.pouch_contents())  \n",
    "\n",
    "k.jump(1, 0)\n",
    "k.jump(1, 0)\n",
    "k.jump(1, 0)\n",
    "print(k)"
   ]
  },
  {
   "cell_type": "markdown",
   "id": "2f19fae0",
   "metadata": {},
   "source": [
    "# Q-4\n",
    "Write function collatz() that takes a positive integer x as input and prints theCollatz sequence starting at x. A Collatz sequence is obtained by repeatedly applyingthis rule to the previous number x in the sequence:x = { 𝑥/2 𝑖𝑓 𝑥 𝑖𝑠 𝑒𝑣𝑒𝑛3𝑥 + 1 𝑖𝑓 𝑥 𝑖𝑠 𝑜𝑑𝑑Your function should stop when the sequence gets to number 1. Yourimplementation must be recursive, without any loops.\n",
    "BDAT 1004 – Data ProgrammingPage 4 of 7F2021BDAT1004ComputerStudies>>> collatz(1)1>>> collatz(10)105168421\n"
   ]
  },
  {
   "cell_type": "code",
   "execution_count": 34,
   "id": "c99d6384",
   "metadata": {},
   "outputs": [
    {
     "name": "stdout",
     "output_type": "stream",
     "text": [
      "1\n",
      "10\n",
      "5\n",
      "16\n",
      "8\n",
      "4\n",
      "2\n",
      "1\n"
     ]
    }
   ],
   "source": [
    "def collatz(x):\n",
    "    print(x)  \n",
    "    \n",
    "    if x == 1:\n",
    "        return \n",
    "    \n",
    "    \n",
    "    if x % 2 == 0:\n",
    "        collatz(x // 2)  \n",
    "    else:\n",
    "        collatz(3 * x + 1) \n",
    "\n",
    "collatz(1) \n",
    "collatz(10) "
   ]
  },
  {
   "cell_type": "markdown",
   "id": "4ae49889",
   "metadata": {},
   "source": [
    "# Q-5\n",
    "Write a recursive method binary() that takes a non-negativeinteger n and prints the binary representation of integer n.>>> binary(0)0>>> binary(1)1>>> binary(3)11>>> binary(9)1001"
   ]
  },
  {
   "cell_type": "code",
   "execution_count": 101,
   "id": "cde180ec",
   "metadata": {},
   "outputs": [
    {
     "name": "stdout",
     "output_type": "stream",
     "text": [
      "0\n",
      "1\n",
      "11\n",
      "1001\n"
     ]
    }
   ],
   "source": [
    "def binary(n):\n",
    "    if n > 1:\n",
    "        binary(n // 2)\n",
    "    print(n % 2, end='')\n",
    "    \n",
    "\n",
    "binary(0)\n",
    "print()\n",
    "binary(1)\n",
    "print()\n",
    "binary(3)\n",
    "print()\n",
    "binary(9)\n",
    "print()\n"
   ]
  },
  {
   "cell_type": "markdown",
   "id": "41ba08e9",
   "metadata": {},
   "source": [
    "# Q-6\n",
    "Implement a class named HeadingParser that can be used to parse an HTMLdocument, and retrieve and print all the headings in the document. You shouldimplement your class as a subclass of HTMLParser, defined in Standard Librarymodule html.parser. When fed a string containing HTML code, your class shouldprint the headings, one per line and in the order in which they appear in thedocument. Each heading should be indented as follows: an h1 heading should have\n",
    "indentation 0, and h2 heading should have indentation 1, etc. Test yourimplementation using w3c.html.>>> infile = open('w3c.html')>>> content = infile.read()>>> infile.close()>>> hp = HeadingParser()>>> hp.feed(content)W3C MissionPrinciples"
   ]
  },
  {
   "cell_type": "code",
   "execution_count": 102,
   "id": "a55ba1be",
   "metadata": {},
   "outputs": [
    {
     "name": "stdout",
     "output_type": "stream",
     "text": [
      "W3C Mission\n",
      "Principles\n"
     ]
    }
   ],
   "source": [
    "from html.parser import HTMLParser\n",
    "\n",
    "class HeadingParser(HTMLParser):\n",
    "    def __init__(self):\n",
    "        super().__init__()\n",
    "        self.in_heading = False\n",
    "\n",
    "    def handle_starttag(self, tag, attrs):\n",
    "        if tag.startswith('h') and tag[1:].isdigit():\n",
    "            self.in_heading = True\n",
    "\n",
    "    def handle_data(self, data):\n",
    "        if self.in_heading:\n",
    "            print(data)\n",
    "\n",
    "    def handle_endtag(self, tag):\n",
    "        if tag.startswith('h') and tag[1:].isdigit():\n",
    "            self.in_heading = False\n",
    "\n",
    "\n",
    "with open('w3c.txt', 'r') as file:\n",
    "    html_content = file.read()\n",
    "\n",
    "\n",
    "hp = HeadingParser()\n",
    "hp.feed(html_content)\n"
   ]
  },
  {
   "cell_type": "markdown",
   "id": "2c7dd562",
   "metadata": {},
   "source": [
    "# Q-7\n",
    "Implement recursive function webdir() that takes as input: a URL (as a string) andnon-negative integers depth and indent. Your function should visit every webpage reachable from the starting URL web page in depth clicks or less, and printeach web page's URL. As shown below, indentation, specified by indent, shouldbe used to indicate the depth of a URL.>>>webdir('http://reed.cs.depaul.edu/lperkovic/csc242/test1.html', 2, 0)http://reed.cs.depaul.edu/lperkovic/csc242/test1.htmlhttp://reed.cs.depaul.edu/lperkovic/csc242/test2.htmlhttp://reed.cs.depaul.edu/lperkovic/csc242/test4.htmlhttp://reed.cs.depaul.edu/lperkovic/csc242/test3.htmlhttp://reed.cs.depaul.edu/lperkovic/csc242/test4.html"
   ]
  },
  {
   "cell_type": "code",
   "execution_count": 28,
   "id": "2a424f98",
   "metadata": {},
   "outputs": [
    {
     "name": "stdout",
     "output_type": "stream",
     "text": [
      "Error accessing http://reed.cs.depaul.edu/lperkovic/csc242/test1.html\n"
     ]
    }
   ],
   "source": [
    "import requests\n",
    "import re\n",
    "\n",
    "def webdir(url, depth, indent):\n",
    "    if depth < 0:\n",
    "        return\n",
    "\n",
    "    try:\n",
    "        response = requests.get(url)\n",
    "        response.raise_for_status()\n",
    "\n",
    "        print('  ' * indent + url)  \n",
    "\n",
    "        if depth > 0:\n",
    "            links = re.findall(r'href=[\"\\'](https?://[^\"\\']+)[\"\\']', response.text)\n",
    "            for link in links:\n",
    "                webdir(link, depth - 1, indent + 1)\n",
    "    except Exception as e:\n",
    "        print('  ' * indent + \"Error accessing \" + url)\n",
    "\n",
    "webdir('http://reed.cs.depaul.edu/lperkovic/csc242/test1.html', 2, 0)\n"
   ]
  },
  {
   "cell_type": "markdown",
   "id": "d8e53f7a",
   "metadata": {},
   "source": [
    "# Q-8\n",
    "Write SQL queries on the below database table that return:\n"
   ]
  },
  {
   "cell_type": "code",
   "execution_count": null,
   "id": "8af67450",
   "metadata": {},
   "outputs": [],
   "source": [
    "#a) All the temperature data.\n",
    "    SELECT Temperature(C) FROM Tablename;"
   ]
  },
  {
   "cell_type": "code",
   "execution_count": null,
   "id": "ccbe97f5",
   "metadata": {},
   "outputs": [],
   "source": [
    "#b) All the cities, but without repetition.\n",
    "    SELECT DISTINCT City FROM Tablename;"
   ]
  },
  {
   "cell_type": "code",
   "execution_count": 54,
   "id": "d3d8b88a",
   "metadata": {},
   "outputs": [],
   "source": [
    "#c) All the records for India.\n",
    "    SELECT * FROM Tablename WHERE Country = 'India';"
   ]
  },
  {
   "cell_type": "code",
   "execution_count": null,
   "id": "85cdc9d5",
   "metadata": {},
   "outputs": [],
   "source": [
    "#d) All the Fall records.\n",
    "    SELECT * FROM Tablename WHERE Season = 'Fall';"
   ]
  },
  {
   "cell_type": "code",
   "execution_count": null,
   "id": "6bdd1d59",
   "metadata": {},
   "outputs": [],
   "source": [
    "#e) The city, country, and season for which the average rainfall is between 200and 400 millimeters.\n",
    "   SELECT City, Country, Season\n",
    "    FROM Tablename\n",
    "    GROUP BY City, Country, Season\n",
    "    HAVING AVG(\"Rainfall(mm)\") >= 200 AND AVG(\"Rainfall(mm)\") <= 400;"
   ]
  },
  {
   "cell_type": "code",
   "execution_count": null,
   "id": "515f8097",
   "metadata": {},
   "outputs": [],
   "source": [
    "#f) The city and country for which the average Fall temperature is above 20degrees, in increasing temperature order.\n",
    "    SELECT City, Country, AVG(Temperature(c)) as Avg_Temp\n",
    "    FROM Tablename\n",
    "    WHERE Season = 'Fall'\n",
    "    GROUP BY City, Country\n",
    "    HAVING Avg_Temp > 20\n",
    "    ORDER BY Avg_Temp ASC;"
   ]
  },
  {
   "cell_type": "code",
   "execution_count": null,
   "id": "43ea8c8c",
   "metadata": {},
   "outputs": [],
   "source": [
    "#g) The total annual rainfall for Cair\n",
    "    SELECT City, SUM(Rainfall(mm)) AS Total_Annual_Rainfall\n",
    "    FROM Tablename\n",
    "        WHERE City = 'Cairo'\n",
    "    GROUP BY City;"
   ]
  },
  {
   "cell_type": "code",
   "execution_count": null,
   "id": "6814f710",
   "metadata": {},
   "outputs": [],
   "source": [
    "#h) The total rainfall for each season.\n",
    "    SELECT Season, SUM(Rainfall(mm)) AS Total_Rainfall_By_Season\n",
    "    FROM Tablename\n",
    "    GROUP BY Season;"
   ]
  },
  {
   "cell_type": "markdown",
   "id": "a3c5b6e6",
   "metadata": {},
   "source": [
    "# Q-9"
   ]
  },
  {
   "cell_type": "code",
   "execution_count": 8,
   "id": "34c49842",
   "metadata": {},
   "outputs": [
    {
     "name": "stdout",
     "output_type": "stream",
     "text": [
      "['THE', 'QUICK', 'BROWN', 'FOX', 'JUMPS', 'OVER', 'THE', 'LAZY', 'DOG']\n"
     ]
    }
   ],
   "source": [
    "words = ['The', 'quick', 'brown', 'fox', 'jumps', 'over','the', 'lazy', 'dog']\n",
    "#a)\n",
    "uppercase_words = []\n",
    "for word in words:\n",
    "    uppercase_words.append(word.upper())\n",
    "print(uppercase_words)"
   ]
  },
  {
   "cell_type": "code",
   "execution_count": 9,
   "id": "781ac298",
   "metadata": {},
   "outputs": [
    {
     "name": "stdout",
     "output_type": "stream",
     "text": [
      "['the', 'quick', 'brown', 'fox', 'jumps', 'over', 'the', 'lazy', 'dog']\n"
     ]
    }
   ],
   "source": [
    "#b)\n",
    "lowercase_words = []\n",
    "for word in words:\n",
    "    lowercase_words.append(word.lower())\n",
    "print(lowercase_words)"
   ]
  },
  {
   "cell_type": "code",
   "execution_count": 10,
   "id": "e3597609",
   "metadata": {},
   "outputs": [
    {
     "name": "stdout",
     "output_type": "stream",
     "text": [
      "[3, 5, 5, 3, 5, 4, 3, 4, 3]\n"
     ]
    }
   ],
   "source": [
    "#c)\n",
    "word_lengths = []\n",
    "for word in words:\n",
    "    word_lengths.append(len(word))\n",
    "print(word_lengths)"
   ]
  },
  {
   "cell_type": "code",
   "execution_count": 11,
   "id": "c77f2aad",
   "metadata": {},
   "outputs": [
    {
     "name": "stdout",
     "output_type": "stream",
     "text": [
      "[['THE', 'the', 3], ['QUICK', 'quick', 5], ['BROWN', 'brown', 5], ['FOX', 'fox', 3], ['JUMPS', 'jumps', 5], ['OVER', 'over', 4], ['THE', 'the', 3], ['LAZY', 'lazy', 4], ['DOG', 'dog', 3]]\n"
     ]
    }
   ],
   "source": [
    "#d)\n",
    "word_details = []\n",
    "for word in words:\n",
    "    word_details.append([word.upper(), word.lower(), len(word)])\n",
    "print(word_details)"
   ]
  },
  {
   "cell_type": "code",
   "execution_count": 12,
   "id": "5e68af21",
   "metadata": {},
   "outputs": [
    {
     "name": "stdout",
     "output_type": "stream",
     "text": [
      "['quick', 'brown', 'jumps', 'over', 'lazy']\n"
     ]
    }
   ],
   "source": [
    "#e)\n",
    "long_words = []\n",
    "for word in words:\n",
    "    if len(word) >= 4:\n",
    "        long_words.append(word)\n",
    "print(long_words)"
   ]
  }
 ],
 "metadata": {
  "kernelspec": {
   "display_name": "Python 3 (ipykernel)",
   "language": "python",
   "name": "python3"
  },
  "language_info": {
   "codemirror_mode": {
    "name": "ipython",
    "version": 3
   },
   "file_extension": ".py",
   "mimetype": "text/x-python",
   "name": "python",
   "nbconvert_exporter": "python",
   "pygments_lexer": "ipython3",
   "version": "3.11.4"
  }
 },
 "nbformat": 4,
 "nbformat_minor": 5
}
